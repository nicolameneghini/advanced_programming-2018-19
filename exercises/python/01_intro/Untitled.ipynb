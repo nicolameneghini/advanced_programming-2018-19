{
 "cells": [
  {
   "cell_type": "markdown",
   "metadata": {},
   "source": [
    "def is_palindrome(string_var):     \n",
    "    '''\n",
    "    returns True if string_var is palindrome, False otherwise\n",
    "    '''\n",
    "    ret = None\n",
    "    ########################\n",
    "    # code here\n",
    "    ########################\n",
    "    return ret \n",
    "\n",
    "def histogram_letters(string_var):     \n",
    "    '''\n",
    "    count how many times a letter is present in the string_var\n",
    "    and returns a dict\n",
    "\n",
    "    '''\n",
    "    ret = None\n",
    "    ########################\n",
    "    # code here\n",
    "    ########################\n",
    "    return ret \n",
    "\n",
    "def get_most_frequent(list_var):\n",
    "    '''\n",
    "    returns a tuple with the most frequent object in the list with the \n",
    "    corresponing number\n",
    "    '''\n",
    "    ret = None\n",
    "    ########################\n",
    "    # code here\n",
    "    ########################\n",
    "    return ret\n",
    "\n",
    "def which_duplicates(list_var):\n",
    "    '''\n",
    "    return a dict with containing the repeted object and the number of repetitions\n",
    "    '''\n",
    "    ret = None\n",
    "    ########################\n",
    "    # code here\n",
    "    ########################\n",
    "    return ret\n",
    "\n",
    "\n",
    "def compute_factorial(int_val):\n",
    "    '''\n",
    "    returns factorial of a number\n",
    "    '''\n",
    "    ret = None\n",
    "    ########################\n",
    "    # code here\n",
    "    ########################\n",
    "    return ret\n",
    "\n",
    "\n",
    "def is_prime(int_val):\n",
    "    '''\n",
    "    returns True if int_val is prime, False otherwise\n",
    "    '''\n",
    "    ret = None\n",
    "    ########################\n",
    "    # code here\n",
    "    ########################\n",
    "    return ret"
   ]
  },
  {
   "cell_type": "code",
   "execution_count": 9,
   "metadata": {},
   "outputs": [],
   "source": [
    "def is_palindrome(string_var):\n",
    "    return string_var == ''.join(reversed(string_var)) #I have to make the type reversed into a string"
   ]
  },
  {
   "cell_type": "code",
   "execution_count": 35,
   "metadata": {},
   "outputs": [],
   "source": [
    "import collections\n",
    "def histogram_letters(string_var):\n",
    "    return dict(collections.Counter(string_var))"
   ]
  },
  {
   "cell_type": "code",
   "execution_count": 36,
   "metadata": {},
   "outputs": [
    {
     "data": {
      "text/plain": [
       "{'a': 2, 's': 2, 'd': 2, 'o': 1}"
      ]
     },
     "execution_count": 36,
     "metadata": {},
     "output_type": "execute_result"
    }
   ],
   "source": [
    "histogram_letters(\"asdasdo\")"
   ]
  },
  {
   "cell_type": "code",
   "execution_count": 74,
   "metadata": {},
   "outputs": [],
   "source": [
    "def most_frequent(list_var):\n",
    "    ret = histogram_letters(list_var)\n",
    "    k = sorted(ret,ret.get)[-1]\n",
    "    return k, ret[k]"
   ]
  },
  {
   "cell_type": "code",
   "execution_count": 75,
   "metadata": {},
   "outputs": [
    {
     "ename": "TypeError",
     "evalue": "sorted expected 1 arguments, got 2",
     "output_type": "error",
     "traceback": [
      "\u001b[0;31m---------------------------------------------------------------------------\u001b[0m",
      "\u001b[0;31mTypeError\u001b[0m                                 Traceback (most recent call last)",
      "\u001b[0;32m<ipython-input-75-07fa888548be>\u001b[0m in \u001b[0;36m<module>\u001b[0;34m()\u001b[0m\n\u001b[0;32m----> 1\u001b[0;31m \u001b[0mmost_frequent\u001b[0m\u001b[0;34m(\u001b[0m\u001b[0;34m\"proviamla\"\u001b[0m\u001b[0;34m)\u001b[0m\u001b[0;34m\u001b[0m\u001b[0m\n\u001b[0m",
      "\u001b[0;32m<ipython-input-74-d486c718384d>\u001b[0m in \u001b[0;36mmost_frequent\u001b[0;34m(list_var)\u001b[0m\n\u001b[1;32m      1\u001b[0m \u001b[0;32mdef\u001b[0m \u001b[0mmost_frequent\u001b[0m\u001b[0;34m(\u001b[0m\u001b[0mlist_var\u001b[0m\u001b[0;34m)\u001b[0m\u001b[0;34m:\u001b[0m\u001b[0;34m\u001b[0m\u001b[0m\n\u001b[1;32m      2\u001b[0m     \u001b[0mret\u001b[0m \u001b[0;34m=\u001b[0m \u001b[0mhistogram_letters\u001b[0m\u001b[0;34m(\u001b[0m\u001b[0mlist_var\u001b[0m\u001b[0;34m)\u001b[0m\u001b[0;34m\u001b[0m\u001b[0m\n\u001b[0;32m----> 3\u001b[0;31m     \u001b[0mk\u001b[0m \u001b[0;34m=\u001b[0m \u001b[0msorted\u001b[0m\u001b[0;34m(\u001b[0m\u001b[0mret\u001b[0m\u001b[0;34m,\u001b[0m\u001b[0mret\u001b[0m\u001b[0;34m.\u001b[0m\u001b[0mget\u001b[0m\u001b[0;34m)\u001b[0m\u001b[0;34m[\u001b[0m\u001b[0;34m-\u001b[0m\u001b[0;36m1\u001b[0m\u001b[0;34m]\u001b[0m\u001b[0;34m\u001b[0m\u001b[0m\n\u001b[0m\u001b[1;32m      4\u001b[0m     \u001b[0;32mreturn\u001b[0m \u001b[0mk\u001b[0m\u001b[0;34m,\u001b[0m \u001b[0mret\u001b[0m\u001b[0;34m[\u001b[0m\u001b[0mk\u001b[0m\u001b[0;34m]\u001b[0m\u001b[0;34m\u001b[0m\u001b[0m\n",
      "\u001b[0;31mTypeError\u001b[0m: sorted expected 1 arguments, got 2"
     ]
    }
   ],
   "source": [
    "most_frequent(\"proviamla\")"
   ]
  },
  {
   "cell_type": "code",
   "execution_count": null,
   "metadata": {},
   "outputs": [],
   "source": [
    "def which_duplicates(string_var):\n",
    "    ret = {}\n",
    "    for c in string_var:\n",
    "        ret[c] = ret.get(c,0) + 1\n",
    "    for c in string_var:\n",
    "        if ret\n",
    "    \n",
    "    return max(ret)"
   ]
  },
  {
   "cell_type": "code",
   "execution_count": null,
   "metadata": {},
   "outputs": [],
   "source": []
  }
 ],
 "metadata": {
  "kernelspec": {
   "display_name": "Python 3",
   "language": "python",
   "name": "python3"
  },
  "language_info": {
   "codemirror_mode": {
    "name": "ipython",
    "version": 3
   },
   "file_extension": ".py",
   "mimetype": "text/x-python",
   "name": "python",
   "nbconvert_exporter": "python",
   "pygments_lexer": "ipython3",
   "version": "3.7.0"
  }
 },
 "nbformat": 4,
 "nbformat_minor": 2
}
