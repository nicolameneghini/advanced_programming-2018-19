{
 "cells": [
  {
   "cell_type": "markdown",
   "metadata": {},
   "source": [
    "###  functions are first-class objects\n",
    "First-class object is a program entity that can be:\n",
    "- created at runtime\n",
    "- assigned to a variable or element in a data structure\n",
    "- passed as an argument to a function\n",
    "- returned as the result of a function"
   ]
  },
  {
   "cell_type": "code",
   "execution_count": 3,
   "metadata": {
    "scrolled": true
   },
   "outputs": [
    {
     "name": "stdout",
     "output_type": "stream",
     "text": [
      "<class 'function'>\n",
      "hello\n"
     ]
    }
   ],
   "source": [
    "def hello():\n",
    "    print(\"hello\")\n",
    "    \n",
    "print(type(hello))\n",
    "\n",
    "a = hello\n",
    "a()"
   ]
  },
  {
   "cell_type": "markdown",
   "metadata": {},
   "source": [
    "### functions can use recursion"
   ]
  },
  {
   "cell_type": "code",
   "execution_count": 1,
   "metadata": {},
   "outputs": [
    {
     "data": {
      "text/plain": [
       "145183092028285869634070784086308284983740379224208358846781574688061991349156420080065207861248000000000000000000"
      ]
     },
     "execution_count": 1,
     "metadata": {},
     "output_type": "execute_result"
    }
   ],
   "source": [
    "def factorial(n):\n",
    "    return 1 if n<2 else n * factorial(n-1)\n",
    "\n",
    "factorial(77)"
   ]
  },
  {
   "cell_type": "markdown",
   "metadata": {},
   "source": [
    "### args name in functions can be used as `keyword`"
   ]
  },
  {
   "cell_type": "code",
   "execution_count": 19,
   "metadata": {},
   "outputs": [
    {
     "ename": "SyntaxError",
     "evalue": "invalid syntax (<ipython-input-19-3a5b64e563a8>, line 1)",
     "output_type": "error",
     "traceback": [
      "\u001b[0;36m  File \u001b[0;32m\"<ipython-input-19-3a5b64e563a8>\"\u001b[0;36m, line \u001b[0;32m1\u001b[0m\n\u001b[0;31m    def abc(1,2,3):\u001b[0m\n\u001b[0m            ^\u001b[0m\n\u001b[0;31mSyntaxError\u001b[0m\u001b[0;31m:\u001b[0m invalid syntax\n"
     ]
    }
   ],
   "source": [
    "def abc(a,b,c):\n",
    "    for i in (\"a\",\"b\",\"c\"):\n",
    "        print(i,\"go\",eval(i))\n",
    "\n",
    "abc('to_a', 'to_b', 'to_c')"
   ]
  },
  {
   "cell_type": "code",
   "execution_count": 5,
   "metadata": {},
   "outputs": [
    {
     "name": "stdout",
     "output_type": "stream",
     "text": [
      "a go to_a\n",
      "b go to_b\n",
      "c go to_c\n"
     ]
    }
   ],
   "source": [
    "abc(b = 'to_b', c = 'to_c', a = 'to_a')"
   ]
  },
  {
   "cell_type": "markdown",
   "metadata": {},
   "source": [
    "###  if you want keyord-only arguments, put a `*` in the signature"
   ]
  },
  {
   "cell_type": "code",
   "execution_count": 18,
   "metadata": {},
   "outputs": [
    {
     "name": "stdout",
     "output_type": "stream",
     "text": [
      "a got to_a\n",
      "b got to_b\n",
      "c got to_c\n"
     ]
    }
   ],
   "source": [
    "def abc_keyword_only(*,a,b,c):\n",
    "    for i in ('a','b','c'):\n",
    "        print(i,\"got\",eval(i))\n",
    "\n",
    "#abc_keyword_only('to_a', 'to_b', 'to_c') # error\n",
    "abc_keyword_only(b = 'to_b', c = 'to_c', a = 'to_a')"
   ]
  },
  {
   "cell_type": "markdown",
   "metadata": {},
   "source": [
    "### default values"
   ]
  },
  {
   "cell_type": "code",
   "execution_count": null,
   "metadata": {},
   "outputs": [],
   "source": [
    "def abc_with_default(a='default_a',\n",
    "                     b='default_b',\n",
    "                     c='default_c'):\n",
    "    abc(a,b,c)\n",
    "    \n",
    "abc_with_default(b = 'to_b')"
   ]
  },
  {
   "cell_type": "markdown",
   "metadata": {},
   "source": [
    "### documentation"
   ]
  },
  {
   "cell_type": "code",
   "execution_count": 21,
   "metadata": {},
   "outputs": [
    {
     "name": "stdout",
     "output_type": "stream",
     "text": [
      "Help on function foo in module __main__:\n",
      "\n",
      "foo()\n",
      "    string documenting foo(). \n",
      "    accessible via help(foo)\n",
      "\n"
     ]
    }
   ],
   "source": [
    "def foo():\n",
    "    '''\n",
    "    string documenting foo(). \n",
    "    accessible via help(foo)\n",
    "    '''\n",
    "    pass\n",
    "\n",
    "help(foo)"
   ]
  },
  {
   "cell_type": "markdown",
   "metadata": {},
   "source": [
    "### function annotations"
   ]
  },
  {
   "cell_type": "code",
   "execution_count": 22,
   "metadata": {},
   "outputs": [],
   "source": [
    "def complicated_function(text:str, max_len:'int>0'=80) -> str:\n",
    "    '''documentation for complicated_function'''\n",
    "    pass"
   ]
  },
  {
   "cell_type": "code",
   "execution_count": 23,
   "metadata": {},
   "outputs": [
    {
     "name": "stdout",
     "output_type": "stream",
     "text": [
      "Help on function complicated_function in module __main__:\n",
      "\n",
      "complicated_function(text: str, max_len: 'int>0' = 80) -> str\n",
      "    documentation for complicated_function\n",
      "\n"
     ]
    }
   ],
   "source": [
    "help(complicated_function)"
   ]
  },
  {
   "cell_type": "markdown",
   "metadata": {},
   "source": [
    "###  much more"
   ]
  },
  {
   "cell_type": "code",
   "execution_count": 24,
   "metadata": {},
   "outputs": [
    {
     "name": "stdout",
     "output_type": "stream",
     "text": [
      "__annotations__ is {'text': <class 'str'>, 'max_len': 'int>0', 'return': <class 'str'>}\n",
      "__call__ is <method-wrapper '__call__' of function object at 0x104551ae8>\n",
      "__class__ is <class 'function'>\n",
      "__closure__ is None\n",
      "__code__ is <code object complicated_function at 0x10455a5d0, file \"<ipython-input-22-ab2ec88ee8c0>\", line 1>\n",
      "__defaults__ is (80,)\n",
      "__delattr__ is <method-wrapper '__delattr__' of function object at 0x104551ae8>\n",
      "__dict__ is {}\n",
      "__dir__ is <built-in method __dir__ of function object at 0x104551ae8>\n",
      "__doc__ is documentation for complicated_function\n",
      "__eq__ is <method-wrapper '__eq__' of function object at 0x104551ae8>\n",
      "__format__ is <built-in method __format__ of function object at 0x104551ae8>\n",
      "__ge__ is <method-wrapper '__ge__' of function object at 0x104551ae8>\n",
      "__get__ is <method-wrapper '__get__' of function object at 0x104551ae8>\n",
      "__getattribute__ is <method-wrapper '__getattribute__' of function object at 0x104551ae8>\n",
      "__globals__ is {'__name__': '__main__', '__doc__': 'Automatically created module for IPython interactive environment', '__package__': None, '__loader__': None, '__spec__': None, '__builtin__': <module 'builtins' (built-in)>, '__builtins__': <module 'builtins' (built-in)>, '_ih': ['', 'def factorial(n):\\n    return 1 if n<2 else n * factorial(n-1)\\n\\nfactorial(77)', 'def hello():\\n    print(\"hello\")\\n    \\nprint(type(hello))\\n\\na = hello\\na', 'def hello():\\n    print(\"hello\")\\n    \\nprint(type(hello))\\n\\na = hello\\na()', 'def abc(a,b,c):\\n    for i in (\\'a\\',\\'b\\',\\'c\\'):\\n        print(i,\"go\",eval(i))\\n\\nabc(\\'to_a\\', \\'to_b\\', \\'to_c\\')', \"abc(b = 'to_b', c = 'to_c', a = 'to_a')\", 'def abc(a,b,c):\\n    for i in (\\'a\\',\\'b\\',\\'c\\'):\\n        print(i,\"go\",eval(i))\\n\\nabc(\\'to_a\\', \\'to_b\\', \\'to_c\\')', 'def abc(a,b,c):\\n    for i in (\\'a\\',\\'b\\',\\'c\\'):\\n        print(i,\"go\",(i))\\n\\nabc(\\'to_a\\', \\'to_b\\', \\'to_c\\')', 'def abc(a,e,c):\\n    for i in (\\'a\\',\\'b\\',\\'c\\'):\\n        print(i,\"go\",eval(i))\\n\\nabc(\\'to_a\\', \\'to_b\\', \\'to_c\\')', 'def abc():\\n    for i in (\\'a\\',\\'b\\',\\'c\\'):\\n        print(i,\"go\",eval(i))\\n\\nabc(\\'to_a\\', \\'to_b\\', \\'to_c\\')', 'def abc(a,b,c):\\n    for i in (\\'a\\',\\'b\\',\\'c\\'):\\n        print(i,\"go\",eval(i))\\n\\nabc(\\'to_a\\', \\'to_b\\', \\'to_c\\')', 'def abc(a,z,c):\\n    for i in (\\'a\\',\\'b\\',\\'c\\'):\\n        print(i,\"go\",eval(i))\\n\\nabc(\\'to_a\\', \\'to_b\\', \\'to_c\\')', 'def abc(a,z,c):\\n    for i in range(\\'a\\',\\'b\\',\\'c\\'):\\n        print(i,\"go\",eval(i))\\n\\nabc(\\'to_a\\', \\'to_b\\', \\'to_c\\')', 'def abc(a,z,c):\\n    for i in range(a,b,c):\\n        print(i,\"go\",eval(i))\\n\\nabc(\\'to_a\\', \\'to_b\\', \\'to_c\\')', 'def abc(a,b,c):\\n    for i in range(a,b,c):\\n        print(i,\"go\",eval(i))\\n\\nabc(\\'to_a\\', \\'to_b\\', \\'to_c\\')', 'def abc(a,b,c):\\n    for i in (\"a\",\"b\",\"c\"):\\n        print(i,\"go\",eval(i))\\n\\nabc(\\'to_a\\', \\'to_b\\', \\'to_c\\')', 'def abc_keyword_only(*,a,b,c):\\n    for i in (\\'a\\',\\'b\\',\\'c\\'):\\n        print(i,\"got\",eval(i))\\n\\n#abc_keyword_only(\\'to_a\\', \\'to_b\\', \\'to_c\\') # error\\nabc_keyword_only(b = \\'to_b\\', c = \\'to_c\\', a = \\'to_a\\')', 'def abc_keyword_only(*,a,b,c):\\n    for i in (\\'a\\',\\'b\\',\\'c\\'):\\n        print(i,\"got\",eval(i))\\n\\n#abc_keyword_only(\\'to_a\\', \\'to_b\\', \\'to_c\\') # error\\nabc_keyword_only(a = \\'to_b\\', b = \\'to_c\\', c = \\'to_a\\')', 'def abc_keyword_only(*,a,b,c):\\n    for i in (\\'a\\',\\'b\\',\\'c\\'):\\n        print(i,\"got\",eval(i))\\n\\n#abc_keyword_only(\\'to_a\\', \\'to_b\\', \\'to_c\\') # error\\nabc_keyword_only(a = \\'to_a\\', b = \\'to_b\\', c = \\'to_c\\')', 'def abc(1,2,3):\\n    for i in (1,2,3):\\n        print(i,\"go\",eval(i))\\n\\nabc(\\'to_a\\', \\'to_b\\', \\'to_c\\')', \"for i in dir(complicated_function):\\n    print(i,'is',eval('complicated_function.'+i))\", \"def foo():\\n    '''\\n    string documenting foo(). \\n    accessible via help(foo)\\n    '''\\n    pass\\n\\nhelp(foo)\", \"def complicated_function(text:str, max_len:'int>0'=80) -> str:\\n    '''documentation for complicated_function'''\\n    pass\", 'help(complicated_function)', \"for i in dir(complicated_function):\\n    print(i,'is',eval('complicated_function.'+i))\"], '_oh': {1: 145183092028285869634070784086308284983740379224208358846781574688061991349156420080065207861248000000000000000000, 2: <function hello at 0x1044b2598>}, '_dh': ['/Users/nicolameneghini/Desktop/Magistrale/Advanced Programming/advanced_programming-2018-19/lectures/python/02_variables_and_functions'], 'In': ['', 'def factorial(n):\\n    return 1 if n<2 else n * factorial(n-1)\\n\\nfactorial(77)', 'def hello():\\n    print(\"hello\")\\n    \\nprint(type(hello))\\n\\na = hello\\na', 'def hello():\\n    print(\"hello\")\\n    \\nprint(type(hello))\\n\\na = hello\\na()', 'def abc(a,b,c):\\n    for i in (\\'a\\',\\'b\\',\\'c\\'):\\n        print(i,\"go\",eval(i))\\n\\nabc(\\'to_a\\', \\'to_b\\', \\'to_c\\')', \"abc(b = 'to_b', c = 'to_c', a = 'to_a')\", 'def abc(a,b,c):\\n    for i in (\\'a\\',\\'b\\',\\'c\\'):\\n        print(i,\"go\",eval(i))\\n\\nabc(\\'to_a\\', \\'to_b\\', \\'to_c\\')', 'def abc(a,b,c):\\n    for i in (\\'a\\',\\'b\\',\\'c\\'):\\n        print(i,\"go\",(i))\\n\\nabc(\\'to_a\\', \\'to_b\\', \\'to_c\\')', 'def abc(a,e,c):\\n    for i in (\\'a\\',\\'b\\',\\'c\\'):\\n        print(i,\"go\",eval(i))\\n\\nabc(\\'to_a\\', \\'to_b\\', \\'to_c\\')', 'def abc():\\n    for i in (\\'a\\',\\'b\\',\\'c\\'):\\n        print(i,\"go\",eval(i))\\n\\nabc(\\'to_a\\', \\'to_b\\', \\'to_c\\')', 'def abc(a,b,c):\\n    for i in (\\'a\\',\\'b\\',\\'c\\'):\\n        print(i,\"go\",eval(i))\\n\\nabc(\\'to_a\\', \\'to_b\\', \\'to_c\\')', 'def abc(a,z,c):\\n    for i in (\\'a\\',\\'b\\',\\'c\\'):\\n        print(i,\"go\",eval(i))\\n\\nabc(\\'to_a\\', \\'to_b\\', \\'to_c\\')', 'def abc(a,z,c):\\n    for i in range(\\'a\\',\\'b\\',\\'c\\'):\\n        print(i,\"go\",eval(i))\\n\\nabc(\\'to_a\\', \\'to_b\\', \\'to_c\\')', 'def abc(a,z,c):\\n    for i in range(a,b,c):\\n        print(i,\"go\",eval(i))\\n\\nabc(\\'to_a\\', \\'to_b\\', \\'to_c\\')', 'def abc(a,b,c):\\n    for i in range(a,b,c):\\n        print(i,\"go\",eval(i))\\n\\nabc(\\'to_a\\', \\'to_b\\', \\'to_c\\')', 'def abc(a,b,c):\\n    for i in (\"a\",\"b\",\"c\"):\\n        print(i,\"go\",eval(i))\\n\\nabc(\\'to_a\\', \\'to_b\\', \\'to_c\\')', 'def abc_keyword_only(*,a,b,c):\\n    for i in (\\'a\\',\\'b\\',\\'c\\'):\\n        print(i,\"got\",eval(i))\\n\\n#abc_keyword_only(\\'to_a\\', \\'to_b\\', \\'to_c\\') # error\\nabc_keyword_only(b = \\'to_b\\', c = \\'to_c\\', a = \\'to_a\\')', 'def abc_keyword_only(*,a,b,c):\\n    for i in (\\'a\\',\\'b\\',\\'c\\'):\\n        print(i,\"got\",eval(i))\\n\\n#abc_keyword_only(\\'to_a\\', \\'to_b\\', \\'to_c\\') # error\\nabc_keyword_only(a = \\'to_b\\', b = \\'to_c\\', c = \\'to_a\\')', 'def abc_keyword_only(*,a,b,c):\\n    for i in (\\'a\\',\\'b\\',\\'c\\'):\\n        print(i,\"got\",eval(i))\\n\\n#abc_keyword_only(\\'to_a\\', \\'to_b\\', \\'to_c\\') # error\\nabc_keyword_only(a = \\'to_a\\', b = \\'to_b\\', c = \\'to_c\\')', 'def abc(1,2,3):\\n    for i in (1,2,3):\\n        print(i,\"go\",eval(i))\\n\\nabc(\\'to_a\\', \\'to_b\\', \\'to_c\\')', \"for i in dir(complicated_function):\\n    print(i,'is',eval('complicated_function.'+i))\", \"def foo():\\n    '''\\n    string documenting foo(). \\n    accessible via help(foo)\\n    '''\\n    pass\\n\\nhelp(foo)\", \"def complicated_function(text:str, max_len:'int>0'=80) -> str:\\n    '''documentation for complicated_function'''\\n    pass\", 'help(complicated_function)', \"for i in dir(complicated_function):\\n    print(i,'is',eval('complicated_function.'+i))\"], 'Out': {1: 145183092028285869634070784086308284983740379224208358846781574688061991349156420080065207861248000000000000000000, 2: <function hello at 0x1044b2598>}, 'get_ipython': <bound method InteractiveShell.get_ipython of <ipykernel.zmqshell.ZMQInteractiveShell object at 0x103f39ef0>>, 'exit': <IPython.core.autocall.ZMQExitAutocall object at 0x1043b5c50>, 'quit': <IPython.core.autocall.ZMQExitAutocall object at 0x1043b5c50>, '_': <function hello at 0x1044b2598>, '__': 145183092028285869634070784086308284983740379224208358846781574688061991349156420080065207861248000000000000000000, '___': '', '_i': 'help(complicated_function)', '_ii': \"def complicated_function(text:str, max_len:'int>0'=80) -> str:\\n    '''documentation for complicated_function'''\\n    pass\", '_iii': \"def foo():\\n    '''\\n    string documenting foo(). \\n    accessible via help(foo)\\n    '''\\n    pass\\n\\nhelp(foo)\", '_i1': 'def factorial(n):\\n    return 1 if n<2 else n * factorial(n-1)\\n\\nfactorial(77)', 'factorial': <function factorial at 0x1044b2158>, '_1': 145183092028285869634070784086308284983740379224208358846781574688061991349156420080065207861248000000000000000000, '_i2': 'def hello():\\n    print(\"hello\")\\n    \\nprint(type(hello))\\n\\na = hello\\na', 'hello': <function hello at 0x1044b2510>, 'a': <function hello at 0x1044b2510>, '_2': <function hello at 0x1044b2598>, '_i3': 'def hello():\\n    print(\"hello\")\\n    \\nprint(type(hello))\\n\\na = hello\\na()', '_i4': 'def abc(a,b,c):\\n    for i in (\\'a\\',\\'b\\',\\'c\\'):\\n        print(i,\"go\",eval(i))\\n\\nabc(\\'to_a\\', \\'to_b\\', \\'to_c\\')', 'abc': <function abc at 0x1044b2d90>, '_i5': \"abc(b = 'to_b', c = 'to_c', a = 'to_a')\", '_i6': 'def abc(a,b,c):\\n    for i in (\\'a\\',\\'b\\',\\'c\\'):\\n        print(i,\"go\",eval(i))\\n\\nabc(\\'to_a\\', \\'to_b\\', \\'to_c\\')', '_i7': 'def abc(a,b,c):\\n    for i in (\\'a\\',\\'b\\',\\'c\\'):\\n        print(i,\"go\",(i))\\n\\nabc(\\'to_a\\', \\'to_b\\', \\'to_c\\')', '_i8': 'def abc(a,e,c):\\n    for i in (\\'a\\',\\'b\\',\\'c\\'):\\n        print(i,\"go\",eval(i))\\n\\nabc(\\'to_a\\', \\'to_b\\', \\'to_c\\')', '_i9': 'def abc():\\n    for i in (\\'a\\',\\'b\\',\\'c\\'):\\n        print(i,\"go\",eval(i))\\n\\nabc(\\'to_a\\', \\'to_b\\', \\'to_c\\')', '_i10': 'def abc(a,b,c):\\n    for i in (\\'a\\',\\'b\\',\\'c\\'):\\n        print(i,\"go\",eval(i))\\n\\nabc(\\'to_a\\', \\'to_b\\', \\'to_c\\')', '_i11': 'def abc(a,z,c):\\n    for i in (\\'a\\',\\'b\\',\\'c\\'):\\n        print(i,\"go\",eval(i))\\n\\nabc(\\'to_a\\', \\'to_b\\', \\'to_c\\')', '_i12': 'def abc(a,z,c):\\n    for i in range(\\'a\\',\\'b\\',\\'c\\'):\\n        print(i,\"go\",eval(i))\\n\\nabc(\\'to_a\\', \\'to_b\\', \\'to_c\\')', '_i13': 'def abc(a,z,c):\\n    for i in range(a,b,c):\\n        print(i,\"go\",eval(i))\\n\\nabc(\\'to_a\\', \\'to_b\\', \\'to_c\\')', '_i14': 'def abc(a,b,c):\\n    for i in range(a,b,c):\\n        print(i,\"go\",eval(i))\\n\\nabc(\\'to_a\\', \\'to_b\\', \\'to_c\\')', '_i15': 'def abc(a,b,c):\\n    for i in (\"a\",\"b\",\"c\"):\\n        print(i,\"go\",eval(i))\\n\\nabc(\\'to_a\\', \\'to_b\\', \\'to_c\\')', '_i16': 'def abc_keyword_only(*,a,b,c):\\n    for i in (\\'a\\',\\'b\\',\\'c\\'):\\n        print(i,\"got\",eval(i))\\n\\n#abc_keyword_only(\\'to_a\\', \\'to_b\\', \\'to_c\\') # error\\nabc_keyword_only(b = \\'to_b\\', c = \\'to_c\\', a = \\'to_a\\')', 'abc_keyword_only': <function abc_keyword_only at 0x104551bf8>, '_i17': 'def abc_keyword_only(*,a,b,c):\\n    for i in (\\'a\\',\\'b\\',\\'c\\'):\\n        print(i,\"got\",eval(i))\\n\\n#abc_keyword_only(\\'to_a\\', \\'to_b\\', \\'to_c\\') # error\\nabc_keyword_only(a = \\'to_b\\', b = \\'to_c\\', c = \\'to_a\\')', '_i18': 'def abc_keyword_only(*,a,b,c):\\n    for i in (\\'a\\',\\'b\\',\\'c\\'):\\n        print(i,\"got\",eval(i))\\n\\n#abc_keyword_only(\\'to_a\\', \\'to_b\\', \\'to_c\\') # error\\nabc_keyword_only(a = \\'to_a\\', b = \\'to_b\\', c = \\'to_c\\')', '_i19': 'def abc(1,2,3):\\n    for i in (1,2,3):\\n        print(i,\"go\",eval(i))\\n\\nabc(\\'to_a\\', \\'to_b\\', \\'to_c\\')', '_i20': \"for i in dir(complicated_function):\\n    print(i,'is',eval('complicated_function.'+i))\", '_i21': \"def foo():\\n    '''\\n    string documenting foo(). \\n    accessible via help(foo)\\n    '''\\n    pass\\n\\nhelp(foo)\", 'foo': <function foo at 0x1045518c8>, '_i22': \"def complicated_function(text:str, max_len:'int>0'=80) -> str:\\n    '''documentation for complicated_function'''\\n    pass\", 'complicated_function': <function complicated_function at 0x104551ae8>, '_i23': 'help(complicated_function)', '_i24': \"for i in dir(complicated_function):\\n    print(i,'is',eval('complicated_function.'+i))\", 'i': '__globals__'}\n",
      "__gt__ is <method-wrapper '__gt__' of function object at 0x104551ae8>\n",
      "__hash__ is <method-wrapper '__hash__' of function object at 0x104551ae8>\n",
      "__init__ is <method-wrapper '__init__' of function object at 0x104551ae8>\n",
      "__init_subclass__ is <built-in method __init_subclass__ of type object at 0x1024dbfb0>\n",
      "__kwdefaults__ is None\n",
      "__le__ is <method-wrapper '__le__' of function object at 0x104551ae8>\n",
      "__lt__ is <method-wrapper '__lt__' of function object at 0x104551ae8>\n",
      "__module__ is __main__\n",
      "__name__ is complicated_function\n",
      "__ne__ is <method-wrapper '__ne__' of function object at 0x104551ae8>\n",
      "__new__ is <built-in method __new__ of type object at 0x1024dbfb0>\n",
      "__qualname__ is complicated_function\n",
      "__reduce__ is <built-in method __reduce__ of function object at 0x104551ae8>\n",
      "__reduce_ex__ is <built-in method __reduce_ex__ of function object at 0x104551ae8>\n",
      "__repr__ is <method-wrapper '__repr__' of function object at 0x104551ae8>\n",
      "__setattr__ is <method-wrapper '__setattr__' of function object at 0x104551ae8>\n",
      "__sizeof__ is <built-in method __sizeof__ of function object at 0x104551ae8>\n",
      "__str__ is <method-wrapper '__str__' of function object at 0x104551ae8>\n",
      "__subclasshook__ is <built-in method __subclasshook__ of type object at 0x1024dbfb0>\n"
     ]
    }
   ],
   "source": [
    "for i in dir(complicated_function):\n",
    "    print(i,'is',eval('complicated_function.'+i))"
   ]
  },
  {
   "cell_type": "code",
   "execution_count": null,
   "metadata": {},
   "outputs": [],
   "source": []
  }
 ],
 "metadata": {
  "kernelspec": {
   "display_name": "Python 3",
   "language": "python",
   "name": "python3"
  },
  "language_info": {
   "codemirror_mode": {
    "name": "ipython",
    "version": 3
   },
   "file_extension": ".py",
   "mimetype": "text/x-python",
   "name": "python",
   "nbconvert_exporter": "python",
   "pygments_lexer": "ipython3",
   "version": "3.7.1"
  }
 },
 "nbformat": 4,
 "nbformat_minor": 2
}
